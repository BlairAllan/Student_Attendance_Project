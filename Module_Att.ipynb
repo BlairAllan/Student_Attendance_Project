{
 "cells": [
  {
   "cell_type": "markdown",
   "id": "7aad18e5",
   "metadata": {},
   "source": [
    "# Module_Att:\n",
    "\n",
    "\n",
    "Date:23/01/23\n",
    "\n",
    "This file contains functions related to the handling of data to get the attendance of Modules and to plot the data neatly in a table. \n"
   ]
  },
  {
   "cell_type": "markdown",
   "id": "a2b90639",
   "metadata": {},
   "source": [
    "## Imports \n"
   ]
  },
  {
   "cell_type": "code",
   "execution_count": 1,
   "id": "aa3c04cd",
   "metadata": {},
   "outputs": [],
   "source": [
    "\n",
    "import pandas as pd\n",
    "import numpy as np\n",
    "import matplotlib.pyplot as plt\n",
    "import sqlite3\n",
    "from pathlib import Path\n",
    "import os\n",
    "import glob\n",
    "import matplotlib.pyplot as plt\n",
    "import matplotlib.colors as mcolours\n",
    "import ipynb\n",
    "import pandas as pd\n",
    "import numpy as np\n",
    "from ipynb.fs.defs.CW_Preprocessing import *\n",
    "\n"
   ]
  },
  {
   "cell_type": "markdown",
   "id": "cf0d1f06",
   "metadata": {},
   "source": [
    "## Functions "
   ]
  },
  {
   "cell_type": "markdown",
   "id": "8fe6c6d3",
   "metadata": {},
   "source": [
    "### Verification Lists"
   ]
  },
  {
   "cell_type": "code",
   "execution_count": 2,
   "id": "14475c9a",
   "metadata": {},
   "outputs": [],
   "source": [
    "def get_module_list():\n",
    "    \"\"\"\n",
    "    Creates a dataframe only containing modules.\n",
    "    \"\"\"\n",
    "    module_att = get_complete_session()\n",
    "    module_att = module_att['module']\n",
    "    module_list = module_att.tolist()\n",
    "    return module_list\n",
    "\n",
    "def get_week_list():\n",
    "    \"\"\"\n",
    "    Creates a dataframe only containing weeks.\n",
    "    \"\"\"\n",
    "    module_att = get_complete_session()\n",
    "    module_att = module_att['week']\n",
    "    week_list = module_att.tolist()\n",
    "    return week_list\n"
   ]
  },
  {
   "cell_type": "markdown",
   "id": "902af46f",
   "metadata": {},
   "source": [
    "### Table producing functions"
   ]
  },
  {
   "cell_type": "code",
   "execution_count": 3,
   "id": "d9f75299",
   "metadata": {},
   "outputs": [],
   "source": [
    "def module_att(module, week):\n",
    "    \"\"\"\n",
    "    Obtains module attendance dataframe from database. Then filters it to inputted module and week and cleans the dataframe. \n",
    "    \"\"\"\n",
    "    module_att_df = sql_att_module_join(module)\n",
    "    module_att_filter = module_att_df[module_att_df['module'] == module]\n",
    "    module_att_filter = module_att_filter[module_att_filter['week'] == week]\n",
    "    module_att_filter = module_att_filter[['day_of_week','start_time','room','type','att_pct']]\n",
    "    module_att_filter['start_time']= pd.to_datetime(module_att_filter['start_time']).dt.time\n",
    "    module_att_filter = module_att_filter.rename(columns={'day_of_week':'Day of Week',\n",
    "                                'start_time': 'Time',\n",
    "                                'room': 'Room',\n",
    "                                'type': 'Type',\n",
    "                                'att_pct':'Attendance %'})\n",
    "    return(module_att_filter)\n",
    "\n",
    "\n",
    "def module_att_table(module, week):\n",
    "    \"\"\"\n",
    "    Obtains the cleaned module attendance from 'module_att', then prepares and plots the table adding styles to hightlight\n",
    "    attendance. Colour gradient applied to attendance percentagees consists of Red < 30%, Yellow = 60 and Green > 85%.\n",
    "    \"\"\"\n",
    "    module_att_df = module_att(module, week)\n",
    "    module_fig, module_ax = plt.subplots(figsize=(10, 2))\n",
    "    module_fig.patch.set_visible(False)\n",
    "    module_ax.axis('off')\n",
    "    module_ax.axis('tight')\n",
    "    cmap = mcolours.LinearSegmentedColormap.from_list(\"\", [\"#B81D13\",\"#EFB700\",\"#008450\"])\n",
    "    norm = mcolours.TwoSlopeNorm(vmin=30, vcenter=60, vmax=85)\n",
    "    colours = [['white' if not np.issubdtype(type(val), np.number) else cmap(norm(val)) for val in row]\n",
    "           for row in module_att_df.values]\n",
    "    vals = [[val if not np.issubdtype(type(val), np.number) else np.round(val, 2) for val in row]\n",
    "        for row in module_att_df.values]\n",
    "    table = module_ax.table(cellText=module_att_df.values, colLabels=module_att_df.columns, loc='best', \n",
    "                     cellColours=colours, colLoc='center')\n",
    "    table.scale(1,2)\n",
    "    module_ax.set_title('Attendance record for {} Week {}:'.format(module, week), loc = 'left',)\n",
    "    module_fig.tight_layout()\n",
    "    plt.show()\n",
    "    \n",
    "\n",
    "\n"
   ]
  },
  {
   "cell_type": "markdown",
   "id": "9bf7cd5b",
   "metadata": {},
   "source": [
    "## Testing "
   ]
  },
  {
   "cell_type": "code",
   "execution_count": 4,
   "id": "b9cc09eb",
   "metadata": {},
   "outputs": [
    {
     "data": {
      "text/html": [
       "<div>\n",
       "<style scoped>\n",
       "    .dataframe tbody tr th:only-of-type {\n",
       "        vertical-align: middle;\n",
       "    }\n",
       "\n",
       "    .dataframe tbody tr th {\n",
       "        vertical-align: top;\n",
       "    }\n",
       "\n",
       "    .dataframe thead th {\n",
       "        text-align: right;\n",
       "    }\n",
       "</style>\n",
       "<table border=\"1\" class=\"dataframe\">\n",
       "  <thead>\n",
       "    <tr style=\"text-align: right;\">\n",
       "      <th></th>\n",
       "      <th>Day of Week</th>\n",
       "      <th>Time</th>\n",
       "      <th>Room</th>\n",
       "      <th>Type</th>\n",
       "      <th>Attendance %</th>\n",
       "    </tr>\n",
       "  </thead>\n",
       "  <tbody>\n",
       "    <tr>\n",
       "      <th>8</th>\n",
       "      <td>Wednesday</td>\n",
       "      <td>10:00:00</td>\n",
       "      <td>SMB014</td>\n",
       "      <td>Lecture</td>\n",
       "      <td>66.0</td>\n",
       "    </tr>\n",
       "    <tr>\n",
       "      <th>9</th>\n",
       "      <td>Thursday</td>\n",
       "      <td>14:00:00</td>\n",
       "      <td>CC011</td>\n",
       "      <td>Lecture</td>\n",
       "      <td>79.0</td>\n",
       "    </tr>\n",
       "  </tbody>\n",
       "</table>\n",
       "</div>"
      ],
      "text/plain": [
       "  Day of Week      Time    Room     Type  Attendance %\n",
       "8   Wednesday  10:00:00  SMB014  Lecture          66.0\n",
       "9    Thursday  14:00:00   CC011  Lecture          79.0"
      ]
     },
     "metadata": {},
     "output_type": "display_data"
    }
   ],
   "source": [
    "def moduleatt_testing_dataframe():\n",
    "    \"\"\"\n",
    "    Testing StudentAtt intial dataframe function 'merge_stuatt_compsess' that's used throughout the class.\n",
    "    \"\"\"\n",
    "    module_att_df = module_att(\"22COA111\",5) # module = 22COA111, week = 5\n",
    "    display(module_att_df)\n",
    "    \n",
    "    \n",
    "moduleatt_testing_dataframe()"
   ]
  },
  {
   "cell_type": "code",
   "execution_count": 5,
   "id": "9b3b973f",
   "metadata": {},
   "outputs": [
    {
     "data": {
      "image/png": "[encoded data removed]",
      "text/plain": [
       "<Figure size 1000x200 with 1 Axes>"
      ]
     },
     "metadata": {},
     "output_type": "display_data"
    }
   ],
   "source": [
    "def moduleatt_testing_table():\n",
    "    \"\"\"\n",
    "    Testing StudentAtt intial dataframe function 'merge_stuatt_compsess' that's used throughout the class.\n",
    "    \"\"\"\n",
    "    module_att_table_test = module_att_table(\"22COA122\",2) # module = 22COA122, week = 2\n",
    "    module_att_table_test\n",
    "    \n",
    "    \n",
    "moduleatt_testing_table()"
   ]
  },
  {
   "cell_type": "code",
   "execution_count": null,
   "id": "f2eb734a",
   "metadata": {},
   "outputs": [],
   "source": []
  }
 ],
 "metadata": {
  "kernelspec": {
   "display_name": "Python 3 (ipykernel)",
   "language": "python",
   "name": "python3"
  },
  "language_info": {
   "codemirror_mode": {
    "name": "ipython",
    "version": 3
   },
   "file_extension": ".py",
   "mimetype": "text/x-python",
   "name": "python",
   "nbconvert_exporter": "python",
   "pygments_lexer": "ipython3",
   "version": "3.9.13"
  }
 },
 "nbformat": 4,
 "nbformat_minor": 5
}
